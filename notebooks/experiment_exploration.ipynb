{
 "cells": [
  {
   "attachments": {},
   "cell_type": "markdown",
   "metadata": {},
   "source": [
    "## WORDS"
   ]
  },
  {
   "cell_type": "code",
   "execution_count": 1,
   "metadata": {},
   "outputs": [],
   "source": [
    "import re\n",
    "from ast import literal_eval\n",
    "from collections import defaultdict\n",
    "from pathlib import Path\n",
    "from collections import Counter\n",
    "\n",
    "import numpy as np\n",
    "\n",
    "REPO_ROOT = Path(__name__).resolve().parents[1]"
   ]
  },
  {
   "cell_type": "code",
   "execution_count": 2,
   "metadata": {},
   "outputs": [],
   "source": [
    "def collect_test_accuracies(ga: bool) -> defaultdict:\n",
    "    \"\"\"Collect the test accuracies from the log files.\"\"\"\n",
    "    if ga:\n",
    "        logs = list(REPO_ROOT.glob(\"models/**/ga/logs/*.log\"))\n",
    "    else:\n",
    "        logs = list(REPO_ROOT.glob(\"models/**/base/logs/*.log\"))\n",
    "   \n",
    "    test_accuracies = defaultdict(list)\n",
    "\n",
    "    for log in logs:\n",
    "        with open(log, \"r\") as f:\n",
    "            text = f.read()\n",
    "            regex = re.compile(r\"Test Accuracy: (\\d)+.(\\d)+%\")\n",
    "            match = re.search(regex, text)\n",
    "            if match:\n",
    "                test_accuracy = float(match.group().split(\":\")[1].strip(\"%\"))\n",
    "                test_accuracies[log.parent.parent.parent.name].append(test_accuracy)\n",
    "\n",
    "    return test_accuracies"
   ]
  },
  {
   "cell_type": "code",
   "execution_count": 3,
   "metadata": {},
   "outputs": [],
   "source": [
    "ga_test_accuracies = collect_test_accuracies(ga=True)\n",
    "base_test_accuracies = collect_test_accuracies(ga=False)"
   ]
  },
  {
   "cell_type": "code",
   "execution_count": 4,
   "metadata": {},
   "outputs": [
    {
     "name": "stdout",
     "output_type": "stream",
     "text": [
      "Average GA Test Accuracy - iris: 83.833% +/- 8.516%\n",
      "Average GA Test Accuracy - wine: 94.722% +/- 4.203%\n",
      "Average GA Test Accuracy - seeds: 89.643% +/- 4.343%\n"
     ]
    }
   ],
   "source": [
    "for key, value in ga_test_accuracies.items():\n",
    "    print(f\"Average GA Test Accuracy - {key}: {np.mean(value):.3f}% +/- {np.std(value):.3f}%\")"
   ]
  },
  {
   "cell_type": "code",
   "execution_count": 5,
   "metadata": {},
   "outputs": [
    {
     "name": "stdout",
     "output_type": "stream",
     "text": [
      "Average Base Test Accuracy - iris: 59.167% +/- 19.347%\n",
      "Average Base Test Accuracy - wine: 35.972% +/- 10.953%\n",
      "Average Base Test Accuracy - seeds: 49.881% +/- 18.109%\n"
     ]
    }
   ],
   "source": [
    "for key, value in base_test_accuracies.items():\n",
    "    print(f\"Average Base Test Accuracy - {key}: {np.mean(value):.3f}% +/- {np.std(value):.3f}%\")"
   ]
  },
  {
   "cell_type": "code",
   "execution_count": 6,
   "metadata": {},
   "outputs": [],
   "source": [
    "def collect_test_best_params(ga: bool = True) -> defaultdict:\n",
    "    \"\"\"Collect the best parameters from the log files.\"\"\"\n",
    "    logs = list(REPO_ROOT.glob(\"models/**/ga/logs/*.log\"))\n",
    "   \n",
    "    best_params = defaultdict(list)\n",
    "\n",
    "    for log in logs:\n",
    "        with open(log, \"r\") as f:\n",
    "            text = f.read()\n",
    "            regex = re.compile(r\"Best Parameters: \\{.*\\}\")\n",
    "            match = re.search(regex, text)\n",
    "            if match:\n",
    "                match_string = match.group()\n",
    "                best_params[log.parent.parent.parent.name].append(literal_eval(match_string[17:]))\n",
    "\n",
    "    return best_params"
   ]
  },
  {
   "cell_type": "code",
   "execution_count": 7,
   "metadata": {},
   "outputs": [],
   "source": [
    "ga_best_params = collect_test_best_params(ga=True)"
   ]
  },
  {
   "cell_type": "code",
   "execution_count": 8,
   "metadata": {},
   "outputs": [
    {
     "name": "stdout",
     "output_type": "stream",
     "text": [
      "GA Hidden Layer Sizes - iris: Counter({3: 11, 4: 7, 2: 2})\n",
      "GA Total Neurons - iris: [368, 784, 464, 432, 352, 448, 464, 240, 304, 448, 576, 512, 336, 464, 416, 576, 400, 576, 544, 464]\n",
      "GA Total Neurons by layer - iris: [(64, 144, 128, 32), (176, 240, 256, 112), (96, 224, 144), (176, 176, 80), (80, 256, 16), (112, 224, 80, 32), (48, 176, 240), (208, 32), (144, 80, 80), (80, 128, 240), (80, 240, 144, 112), (240, 112, 160), (256, 80), (144, 224, 96), (128, 176, 112), (160, 256, 112, 48), (176, 160, 64), (80, 240, 192, 64), (32, 224, 208, 80), (64, 240, 160)]\n",
      "GA Min Total Neurons - iris: 240\n",
      "GA Max Total Neurons - iris: 784\n",
      "GA activation - iris: Counter({'tanh': 20})\n",
      "\n",
      "\n",
      "GA Hidden Layer Sizes - wine: Counter({3: 9, 4: 9, 2: 2})\n",
      "GA Total Neurons - wine: [240, 320, 320, 528, 560, 512, 608, 512, 464, 432, 432, 464, 608, 608, 416, 544, 608, 512, 464, 560]\n",
      "GA Total Neurons by layer - wine: [(176, 64), (240, 80), (80, 128, 112), (256, 96, 176), (176, 240, 144), (80, 96, 256, 80), (256, 208, 144), (48, 208, 224, 32), (176, 192, 96), (128, 224, 80), (96, 112, 144, 80), (256, 112, 96), (96, 176, 240, 96), (160, 80, 192, 176), (192, 160, 64), (128, 224, 160, 32), (176, 208, 112, 112), (224, 224, 64), (96, 128, 192, 48), (128, 176, 176, 80)]\n",
      "GA Min Total Neurons - wine: 240\n",
      "GA Max Total Neurons - wine: 608\n",
      "GA activation - wine: Counter({'tanh': 20})\n",
      "\n",
      "\n",
      "GA Hidden Layer Sizes - seeds: Counter({4: 12, 3: 7, 2: 1})\n",
      "GA Total Neurons - seeds: [448, 800, 720, 448, 704, 576, 704, 384, 256, 832, 544, 592, 464, 576, 576, 368, 256, 560, 400, 736]\n",
      "GA Total Neurons by layer - seeds: [(48, 144, 160, 96), (208, 192, 176, 224), (160, 256, 240, 64), (176, 176, 96), (176, 176, 208, 144), (176, 160, 128, 112), (80, 256, 256, 112), (48, 176, 160), (208, 48), (112, 224, 240, 256), (128, 160, 256), (48, 208, 256, 80), (80, 112, 160, 112), (112, 240, 224), (96, 224, 176, 80), (144, 160, 64), (48, 160, 48), (240, 192, 128), (32, 160, 160, 48), (208, 224, 192, 112)]\n",
      "GA Min Total Neurons - seeds: 256\n",
      "GA Max Total Neurons - seeds: 832\n",
      "GA activation - seeds: Counter({'tanh': 20})\n",
      "\n",
      "\n"
     ]
    }
   ],
   "source": [
    "for key, value in ga_best_params.items():\n",
    "    print(f\"GA Hidden Layer Sizes - {key}: {Counter([len(val['clf__estimator__hidden_layer_sizes']) for val in value])}\")\n",
    "    print(f\"GA Total Neurons - {key}: {[sum(val['clf__estimator__hidden_layer_sizes']) for val in value]}\")\n",
    "    print(f\"GA Total Neurons by layer - {key}: {[(val['clf__estimator__hidden_layer_sizes']) for val in value]}\")\n",
    "    print(f\"GA Min Total Neurons - {key}: {min([sum(val['clf__estimator__hidden_layer_sizes']) for val in value])}\")\n",
    "    print(f\"GA Max Total Neurons - {key}: {max([sum(val['clf__estimator__hidden_layer_sizes']) for val in value])}\")\n",
    "    print(f\"GA activation - {key}: {Counter([val['clf__estimator__activation'] for val in value])}\")\n",
    "    print(\"\\n\")"
   ]
  },
  {
   "cell_type": "code",
   "execution_count": null,
   "metadata": {},
   "outputs": [],
   "source": []
  }
 ],
 "metadata": {
  "kernelspec": {
   "display_name": "venv",
   "language": "python",
   "name": "python3"
  },
  "language_info": {
   "codemirror_mode": {
    "name": "ipython",
    "version": 3
   },
   "file_extension": ".py",
   "mimetype": "text/x-python",
   "name": "python",
   "nbconvert_exporter": "python",
   "pygments_lexer": "ipython3",
   "version": "3.8.16"
  },
  "orig_nbformat": 4
 },
 "nbformat": 4,
 "nbformat_minor": 2
}
